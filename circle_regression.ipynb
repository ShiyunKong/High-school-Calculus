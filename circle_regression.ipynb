{
 "nbformat": 4,
 "nbformat_minor": 0,
 "metadata": {
  "colab": {
   "provenance": []
  },
  "kernelspec": {
   "name": "python3",
   "display_name": "Python 3"
  },
  "language_info": {
   "name": "python"
  }
 },
 "cells": [
  {
   "cell_type": "code",
   "source": [
    "\n",
    "from google.colab import drive\n",
    "drive.mount('/content/drive')"
   ],
   "metadata": {
    "colab": {
     "base_uri": "https://localhost:8080/"
    },
    "id": "tiTCFni27zMk",
    "outputId": "6ce8c1e6-ed02-445e-c4d6-ba7f83e1d8a7"
   },
   "execution_count": 63,
   "outputs": [
    {
     "output_type": "stream",
     "name": "stdout",
     "text": [
      "Drive already mounted at /content/drive; to attempt to forcibly remount, call drive.mount(\"/content/drive\", force_remount=True).\n"
     ]
    }
   ]
  },
  {
   "cell_type": "code",
   "source": [
    "import pandas as pd\n",
    "df = pd.read_csv(\"/content/drive/MyDrive/Colab Notebooks/circle regression.csv\")\n",
    "print(type(df))"
   ],
   "metadata": {
    "colab": {
     "base_uri": "https://localhost:8080/"
    },
    "id": "zacKKxGD7syM",
    "outputId": "771b7fb2-bc38-42b0-9848-e3fdcd4b20ed"
   },
   "execution_count": 64,
   "outputs": [
    {
     "output_type": "stream",
     "name": "stdout",
     "text": [
      "<class 'pandas.core.frame.DataFrame'>\n"
     ]
    }
   ]
  },
  {
   "cell_type": "code",
   "source": [
    "print(df)"
   ],
   "metadata": {
    "colab": {
     "base_uri": "https://localhost:8080/"
    },
    "id": "IsHaLjmU8NuX",
    "outputId": "d43628d3-de78-4ffc-dd04-16092c3309c4"
   },
   "execution_count": 65,
   "outputs": [
    {
     "output_type": "stream",
     "name": "stdout",
     "text": [
      "    -9.7   9.4\n",
      "0   -9.0  6.70\n",
      "1   -8.0  4.20\n",
      "2   -7.0  3.10\n",
      "3   -6.0  2.10\n",
      "4   -5.0  1.39\n",
      "5   -4.0  0.90\n",
      "6   -3.0  0.50\n",
      "7   -2.0  0.20\n",
      "8   -1.0  0.02\n",
      "9    0.0  0.00\n",
      "10   1.0  0.02\n",
      "11   2.0  0.19\n",
      "12   3.0  0.48\n",
      "13   4.0  0.85\n",
      "14   5.0  1.38\n",
      "15   6.0  2.10\n",
      "16   7.0  3.04\n",
      "17   8.0  4.30\n",
      "18   9.0  6.80\n",
      "19   9.7  9.82\n"
     ]
    }
   ]
  },
  {
   "cell_type": "code",
   "source": [
    "x=df.iloc[:,0]\n",
    "print(type(x))\n",
    "y=df.iloc[:,1]\n"
   ],
   "metadata": {
    "colab": {
     "base_uri": "https://localhost:8080/"
    },
    "id": "f69WBlc08Q1T",
    "outputId": "7a3e9582-bfc1-42b8-92b2-aeb82be246cd"
   },
   "execution_count": 66,
   "outputs": [
    {
     "output_type": "stream",
     "name": "stdout",
     "text": [
      "<class 'pandas.core.series.Series'>\n"
     ]
    }
   ]
  },
  {
   "cell_type": "code",
   "source": [
    "import matplotlib.pyplot as plt\n",
    "import numpy as np\n",
    "plt.scatter(x, y)\n",
    "plt.axis('equal')\n",
    "plt.show()"
   ],
   "metadata": {
    "colab": {
     "base_uri": "https://localhost:8080/",
     "height": 265
    },
    "id": "GKLW98aC8M0O",
    "outputId": "d616efdb-031d-44cd-cb3f-e1a17c0b35a2"
   },
   "execution_count": 67,
   "outputs": [
    {
     "output_type": "display_data",
     "data": {
      "text/plain": [
       "<Figure size 432x288 with 1 Axes>"
      ],
      "image/png": "[encoded data removed]"
     },
     "metadata": {
      "needs_background": "light"
     }
    }
   ]
  },
  {
   "cell_type": "code",
   "source": [
    "from scipy import optimize\n",
    "from math import pi\n",
    "\n",
    "def r(x, y, xc, yc):\n",
    "  return np.sqrt((x-xc)**2 + (y-yc)**2)\n",
    "\n",
    "\n",
    "def f(c, x, y):\n",
    "  Ri = r(x, y, *c)\n",
    "  return np.square(Ri - Ri.mean())\n"
   ],
   "metadata": {
    "id": "lCujYe2N8ss7"
   },
   "execution_count": 68,
   "outputs": []
  },
  {
   "cell_type": "code",
   "source": [
    "def least_squares_circle(coords):\n",
    "    x, y = None, None\n",
    "    if isinstance(coords, np.ndarray):\n",
    "        x = coords[:, 0]\n",
    "        y = coords[:, 1]\n",
    "    elif isinstance(coords, list):\n",
    "        x = np.array([point[0] for point in coords])\n",
    "        y = np.array([point[1] for point in coords])\n",
    "    else:\n",
    "        raise Exception(\"Parameter 'coords' is an unsupported type: \" + str(type(coords)))\n",
    "\n",
    "    # coordinates of the barycenter\n",
    "    x_m = np.mean(x)\n",
    "    y_m = np.mean(y)\n",
    "    center_estimate = x_m, y_m\n",
    "    center, _ = optimize.leastsq(f, center_estimate, args=(x, y))\n",
    "    xc, yc = center\n",
    "    Ri       = r(x, y, *center)\n",
    "    R        = Ri.mean()\n",
    "    residu   = np.sum((Ri - R)**2)\n",
    "    return xc, yc, R, residu\n"
   ],
   "metadata": {
    "id": "jqEOsA5r9AGU"
   },
   "execution_count": 69,
   "outputs": []
  },
  {
   "cell_type": "code",
   "source": [
    "def plot_data_circle(x, y, xc, yc, R):\n",
    "    f = plt.figure(facecolor='white')\n",
    "    plt.axis('equal')\n",
    "\n",
    "    theta_fit = np.linspace(-pi, pi, 180)\n",
    "\n",
    "    x_fit = xc + R*np.cos(theta_fit)\n",
    "    y_fit = yc + R*np.sin(theta_fit)\n",
    "    plt.plot(x_fit, y_fit, 'b-' , label=\"fitted circle\", lw=2)\n",
    "    plt.plot([xc], [yc], 'bD', mec='y', mew=1)\n",
    "    plt.xlabel('x')\n",
    "    plt.ylabel('y')\n",
    "    # plot data\n",
    "    plt.scatter(x, y, c='red', label='data')\n",
    "\n",
    "    plt.legend(loc='best', labelspacing=0.1 )\n",
    "    plt.grid()\n",
    "    plt.title('Fit Circle')\n"
   ],
   "metadata": {
    "id": "x1vA9l9n9GDx"
   },
   "execution_count": 70,
   "outputs": []
  },
  {
   "cell_type": "code",
   "source": [
    "coords = np.array([[x[i], y[i]] for i in range(len(x))])\n",
    "xc, yc, r, residual = least_squares_circle(coords)\n",
    "print(\"least_squares: \\n\"\n",
    "      \"xc: {xc}\\n\"\n",
    "      \"yc: {yc}\\n\"\n",
    "      \"r: {r}\\n\"\n",
    "      \"residual: {residual}\\n\".format(xc=xc, yc=yc, r=r, residual=residual))\n",
    "plot_data_circle(coords[:, 0], coords[:, 1], xc, yc, r)\n",
    "plt.show()\n"
   ],
   "metadata": {
    "colab": {
     "base_uri": "https://localhost:8080/",
     "height": 405
    },
    "id": "GU0UFyld9cco",
    "outputId": "d32c0480-0a3d-4fe6-e4cd-c6defd57c277"
   },
   "execution_count": 72,
   "outputs": [
    {
     "output_type": "stream",
     "name": "stdout",
     "text": [
      "least_squares: \n",
      "xc: 0.010675201786055799\n",
      "yc: 9.545974554747163\n",
      "r: 9.553773580063034\n",
      "residual: 0.06445922382930636\n",
      "\n"
     ]
    },
    {
     "output_type": "display_data",
     "data": {
      "text/plain": [
       "<Figure size 432x288 with 1 Axes>"
      ],
      "image/png": "[encoded data removed]"
     },
     "metadata": {}
    }
   ]
  }
 ]
}
